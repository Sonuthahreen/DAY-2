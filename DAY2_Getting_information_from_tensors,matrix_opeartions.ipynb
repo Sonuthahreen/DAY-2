{
  "nbformat": 4,
  "nbformat_minor": 0,
  "metadata": {
    "colab": {
      "provenance": [],
      "gpuType": "T4",
      "authorship_tag": "ABX9TyMqQ3NmYavM/txh1cdtWMmU",
      "include_colab_link": true
    },
    "kernelspec": {
      "name": "python3",
      "display_name": "Python 3"
    },
    "language_info": {
      "name": "python"
    },
    "accelerator": "GPU"
  },
  "cells": [
    {
      "cell_type": "markdown",
      "metadata": {
        "id": "view-in-github",
        "colab_type": "text"
      },
      "source": [
        "<a href=\"https://colab.research.google.com/github/Sonuthahreen/DAY-2/blob/main/DAY2_Getting_information_from_tensors%2Cmatrix_opeartions.ipynb\" target=\"_parent\"><img src=\"https://colab.research.google.com/assets/colab-badge.svg\" alt=\"Open In Colab\"/></a>"
      ]
    },
    {
      "cell_type": "markdown",
      "source": [
        "**Getting information from tensor**(tensor attributes)\n",
        "\n",
        "1.Tensors not right datatype -to do get datatype from a tensor,can use tensor.dtype\n",
        "\n",
        "2.tensors not right shape-to get shape from a tensor,can use tensor.shape\n",
        "\n",
        "3.Tensor not on the right device-to get device shape from tensor,can use tensor.device"
      ],
      "metadata": {
        "id": "CyL34Iwcn7Tz"
      }
    },
    {
      "cell_type": "code",
      "source": [
        "import torch\n",
        "import pandas as pd\n",
        "import numpy as np\n",
        "import matplotlib.pyplot as plt\n",
        "print(torch.__version__)\n"
      ],
      "metadata": {
        "colab": {
          "base_uri": "https://localhost:8080/"
        },
        "id": "JlG96ingpFGl",
        "outputId": "2235c93a-7b12-4e0a-9eb8-ca7ca6103673"
      },
      "execution_count": 4,
      "outputs": [
        {
          "output_type": "stream",
          "name": "stdout",
          "text": [
            "2.1.0+cu121\n"
          ]
        }
      ]
    },
    {
      "cell_type": "code",
      "source": [
        "#create a tensor\n",
        "some_tensor=torch.rand(3,4)\n",
        "some_tensor"
      ],
      "metadata": {
        "colab": {
          "base_uri": "https://localhost:8080/"
        },
        "id": "XyExPyLJomzS",
        "outputId": "bd07edcb-f712-4fed-ad2b-6debd31e2ad3"
      },
      "execution_count": 5,
      "outputs": [
        {
          "output_type": "execute_result",
          "data": {
            "text/plain": [
              "tensor([[0.8592, 0.2398, 0.0873, 0.9941],\n",
              "        [0.3188, 0.4095, 0.9265, 0.7199],\n",
              "        [0.2323, 0.0439, 0.5783, 0.4559]])"
            ]
          },
          "metadata": {},
          "execution_count": 5
        }
      ]
    },
    {
      "cell_type": "code",
      "source": [
        "#finding out details about some tensor\n",
        "print(some_tensor)\n",
        "print(f\"Datatype of tensor:{some_tensor.dtype}\")\n",
        "print(f\"Shape of tensor:{some_tensor.shape}\")\n",
        "print(f\"Device tensor is on:{some_tensor.device}\")"
      ],
      "metadata": {
        "colab": {
          "base_uri": "https://localhost:8080/"
        },
        "id": "33d9xpQDpz-m",
        "outputId": "2476460b-4612-4767-fe10-8baa6b1bddd7"
      },
      "execution_count": 6,
      "outputs": [
        {
          "output_type": "stream",
          "name": "stdout",
          "text": [
            "tensor([[0.8592, 0.2398, 0.0873, 0.9941],\n",
            "        [0.3188, 0.4095, 0.9265, 0.7199],\n",
            "        [0.2323, 0.0439, 0.5783, 0.4559]])\n",
            "Datatype of tensor:torch.float32\n",
            "Shape of tensor:torch.Size([3, 4])\n",
            "Device tensor is on:cpu\n"
          ]
        }
      ]
    },
    {
      "cell_type": "code",
      "source": [
        "#create a tensor(practice)\n",
        "some_tensor=torch.rand(5,10)\n",
        "some_tensor"
      ],
      "metadata": {
        "colab": {
          "base_uri": "https://localhost:8080/"
        },
        "id": "fx1QtFDYsCIF",
        "outputId": "6376b6c0-ea91-4cf9-fd2c-40ef27801791"
      },
      "execution_count": 7,
      "outputs": [
        {
          "output_type": "execute_result",
          "data": {
            "text/plain": [
              "tensor([[0.2226, 0.9934, 0.2313, 0.6575, 0.2601, 0.2400, 0.3337, 0.3166, 0.0698,\n",
              "         0.7305],\n",
              "        [0.0509, 0.0956, 0.7804, 0.5133, 0.6988, 0.1995, 0.7070, 0.6417, 0.4088,\n",
              "         0.2033],\n",
              "        [0.3984, 0.3495, 0.5929, 0.6574, 0.3948, 0.2000, 0.4791, 0.7696, 0.4802,\n",
              "         0.2802],\n",
              "        [0.5411, 0.6686, 0.3441, 0.5276, 0.3296, 0.9996, 0.4329, 0.0467, 0.0018,\n",
              "         0.0258],\n",
              "        [0.1904, 0.0714, 0.7508, 0.5604, 0.4126, 0.3048, 0.9245, 0.7356, 0.3667,\n",
              "         0.0380]])"
            ]
          },
          "metadata": {},
          "execution_count": 7
        }
      ]
    },
    {
      "cell_type": "code",
      "source": [
        "#finding out details about some tensor\n",
        "print(some_tensor)\n",
        "print(f\"Datatype of tensor:{some_tensor.dtype}\")\n",
        "print(f\"Shape of tensor:{some_tensor.shape}\")\n",
        "print(f\"Device tensor is on:{some_tensor.device}\")"
      ],
      "metadata": {
        "colab": {
          "base_uri": "https://localhost:8080/"
        },
        "id": "m9YkfxcgsIxm",
        "outputId": "43e5e570-f8f9-4d82-c540-cb0b25cfb4bf"
      },
      "execution_count": 8,
      "outputs": [
        {
          "output_type": "stream",
          "name": "stdout",
          "text": [
            "tensor([[0.2226, 0.9934, 0.2313, 0.6575, 0.2601, 0.2400, 0.3337, 0.3166, 0.0698,\n",
            "         0.7305],\n",
            "        [0.0509, 0.0956, 0.7804, 0.5133, 0.6988, 0.1995, 0.7070, 0.6417, 0.4088,\n",
            "         0.2033],\n",
            "        [0.3984, 0.3495, 0.5929, 0.6574, 0.3948, 0.2000, 0.4791, 0.7696, 0.4802,\n",
            "         0.2802],\n",
            "        [0.5411, 0.6686, 0.3441, 0.5276, 0.3296, 0.9996, 0.4329, 0.0467, 0.0018,\n",
            "         0.0258],\n",
            "        [0.1904, 0.0714, 0.7508, 0.5604, 0.4126, 0.3048, 0.9245, 0.7356, 0.3667,\n",
            "         0.0380]])\n",
            "Datatype of tensor:torch.float32\n",
            "Shape of tensor:torch.Size([5, 10])\n",
            "Device tensor is on:cpu\n"
          ]
        }
      ]
    },
    {
      "cell_type": "markdown",
      "source": [
        "**MANUPULATING TENSORS**\n",
        "\n",
        "Tensor Operations:\n",
        "-additions\n",
        "\n",
        "-subtraction\n",
        "\n",
        "-multiplication(element-wise)\n",
        "\n",
        "-division\n",
        "\n",
        "-matrix multiplications"
      ],
      "metadata": {
        "id": "mwQiZgypse9i"
      }
    },
    {
      "cell_type": "code",
      "source": [
        "#performing addition operations\n",
        "#create tensor\n",
        "tensor=torch.tensor([1,2,3])\n",
        "tensor+10"
      ],
      "metadata": {
        "colab": {
          "base_uri": "https://localhost:8080/"
        },
        "id": "bQSOO7zss1vM",
        "outputId": "bc38ef3e-adc7-4e76-c029-6b0147a4e6b0"
      },
      "execution_count": 16,
      "outputs": [
        {
          "output_type": "execute_result",
          "data": {
            "text/plain": [
              "tensor([11, 12, 13])"
            ]
          },
          "metadata": {},
          "execution_count": 16
        }
      ]
    },
    {
      "cell_type": "code",
      "source": [
        "#performing multipiliction operation\n",
        "tensor=torch.tensor([1,2,3])\n",
        "tensor=tensor*10\n",
        "tensor"
      ],
      "metadata": {
        "colab": {
          "base_uri": "https://localhost:8080/"
        },
        "id": "yGx15zaotPCN",
        "outputId": "a7be99ff-71c1-4e64-f4fa-ee708be2783d"
      },
      "execution_count": 13,
      "outputs": [
        {
          "output_type": "execute_result",
          "data": {
            "text/plain": [
              "tensor([10, 20, 30])"
            ]
          },
          "metadata": {},
          "execution_count": 13
        }
      ]
    },
    {
      "cell_type": "code",
      "source": [
        "#performing subtraction operation\n",
        "tensor=torch.tensor([1,2,3])\n",
        "tensor=tensor-10\n",
        "tensor"
      ],
      "metadata": {
        "colab": {
          "base_uri": "https://localhost:8080/"
        },
        "id": "FYbBIxRktzH0",
        "outputId": "5a2f9c58-f84f-4abe-8007-ca31bdd73361"
      },
      "execution_count": 14,
      "outputs": [
        {
          "output_type": "execute_result",
          "data": {
            "text/plain": [
              "tensor([-9, -8, -7])"
            ]
          },
          "metadata": {},
          "execution_count": 14
        }
      ]
    },
    {
      "cell_type": "code",
      "source": [
        "#PYTORCH IN-BUILT FUCTIONS\n",
        "torch.mul(tensor,10)\n"
      ],
      "metadata": {
        "colab": {
          "base_uri": "https://localhost:8080/"
        },
        "id": "1Xnq7IxiuA01",
        "outputId": "f398f794-843d-4820-b50c-2f28355e4e87"
      },
      "execution_count": 19,
      "outputs": [
        {
          "output_type": "execute_result",
          "data": {
            "text/plain": [
              "tensor([10, 20, 30])"
            ]
          },
          "metadata": {},
          "execution_count": 19
        }
      ]
    },
    {
      "cell_type": "code",
      "source": [
        "torch.add(tensor,10)"
      ],
      "metadata": {
        "colab": {
          "base_uri": "https://localhost:8080/"
        },
        "id": "7XSDUwUmuXN9",
        "outputId": "fdc6c7a4-6779-41e4-d542-4ea21f7fc49c"
      },
      "execution_count": 20,
      "outputs": [
        {
          "output_type": "execute_result",
          "data": {
            "text/plain": [
              "tensor([11, 12, 13])"
            ]
          },
          "metadata": {},
          "execution_count": 20
        }
      ]
    },
    {
      "cell_type": "markdown",
      "source": [
        "**MATRIX MULTIPLICATION**\n",
        "\n",
        "-Two main ways of performing multiplication in neural networks and deep learning:\n",
        "\n",
        "1.Element-Wise multiplication\n",
        "\n",
        "2.matrix mutltiplication is also refered to dot product(a.b)\n"
      ],
      "metadata": {
        "id": "tdcsKDZ2vSn7"
      }
    },
    {
      "cell_type": "code",
      "source": [
        "#Element-Wise multiplication\n",
        "print(tensor,\"*\",tensor)\n",
        "print(f\"Equals:{tensor*tensor}\")"
      ],
      "metadata": {
        "colab": {
          "base_uri": "https://localhost:8080/"
        },
        "id": "rWHw3Q2wvkZV",
        "outputId": "ae24c671-d7f2-4fde-e390-b1a9c5e455d5"
      },
      "execution_count": 21,
      "outputs": [
        {
          "output_type": "stream",
          "name": "stdout",
          "text": [
            "tensor([1, 2, 3]) * tensor([1, 2, 3])\n",
            "Equals:tensor([1, 4, 9])\n"
          ]
        }
      ]
    },
    {
      "cell_type": "code",
      "source": [
        "#matrix multiplication\n",
        "torch.matmul(tensor,tensor)\n",
        "#why we got 14 means each vale is multiplied by anthor value"
      ],
      "metadata": {
        "colab": {
          "base_uri": "https://localhost:8080/"
        },
        "id": "wNh_IuuMwtuL",
        "outputId": "e1d625f9-7a7d-47b5-cb8b-e7cf4fc0bba2"
      },
      "execution_count": 22,
      "outputs": [
        {
          "output_type": "execute_result",
          "data": {
            "text/plain": [
              "tensor(14)"
            ]
          },
          "metadata": {},
          "execution_count": 22
        }
      ]
    },
    {
      "cell_type": "code",
      "source": [
        "tensor"
      ],
      "metadata": {
        "colab": {
          "base_uri": "https://localhost:8080/"
        },
        "id": "HTm1ICmnxeWv",
        "outputId": "ffaa394f-4099-489e-b7b2-165ec033bd4a"
      },
      "execution_count": 29,
      "outputs": [
        {
          "output_type": "execute_result",
          "data": {
            "text/plain": [
              "tensor([1, 2, 3])"
            ]
          },
          "metadata": {},
          "execution_count": 29
        }
      ]
    },
    {
      "cell_type": "code",
      "source": [
        "#matrix multiplication done in this way\n",
        "1*1+2*2+3*3"
      ],
      "metadata": {
        "colab": {
          "base_uri": "https://localhost:8080/"
        },
        "id": "ofFNPbIFxgh5",
        "outputId": "d0e6c75a-7901-4948-f173-247fa690a76c"
      },
      "execution_count": 27,
      "outputs": [
        {
          "output_type": "execute_result",
          "data": {
            "text/plain": [
              "14"
            ]
          },
          "metadata": {},
          "execution_count": 27
        }
      ]
    },
    {
      "cell_type": "code",
      "source": [
        "%%time\n",
        "value=0\n",
        "for i in range (len(tensor)):\n",
        "  value += tensor[i]*tensor[i]\n",
        "print(value)\n",
        "\n"
      ],
      "metadata": {
        "colab": {
          "base_uri": "https://localhost:8080/"
        },
        "id": "9tiAJ_Wixxpg",
        "outputId": "a75a8103-aea6-4bf5-883b-8b6c3a156854"
      },
      "execution_count": 34,
      "outputs": [
        {
          "output_type": "stream",
          "name": "stdout",
          "text": [
            "tensor(14)\n",
            "CPU times: user 978 µs, sys: 1.01 ms, total: 1.98 ms\n",
            "Wall time: 1.84 ms\n"
          ]
        }
      ]
    },
    {
      "cell_type": "code",
      "source": [
        "%%time\n",
        "torch.matmul(tensor,tensor)"
      ],
      "metadata": {
        "colab": {
          "base_uri": "https://localhost:8080/"
        },
        "id": "vbC6n6Bky5k7",
        "outputId": "c48de1ce-da85-4c91-e503-7df80e1d7481"
      },
      "execution_count": 35,
      "outputs": [
        {
          "output_type": "stream",
          "name": "stdout",
          "text": [
            "CPU times: user 91 µs, sys: 0 ns, total: 91 µs\n",
            "Wall time: 95.8 µs\n"
          ]
        },
        {
          "output_type": "execute_result",
          "data": {
            "text/plain": [
              "tensor(14)"
            ]
          },
          "metadata": {},
          "execution_count": 35
        }
      ]
    },
    {
      "cell_type": "markdown",
      "source": [
        "The are two main rules that erforming matrix multiplication need to satisfy:\n",
        "\n",
        "1.inner demensions must  be match:\n",
        "\n",
        "* '(3,2) @ (3,2)' wont work\n",
        "* (2,3) @ (3,2)   work\n",
        "* (3,2) @(2,3) work\n",
        "\n",
        "2.the resulting matrix has the shape of the outer dimensions:\n",
        "\n",
        "* '(2,3) @ (3,2) ->(2,2)\n",
        "\n",
        "* '(3,2) @ (2,3) ->(3,3)\n"
      ],
      "metadata": {
        "id": "FNMQUYH8zUhB"
      }
    },
    {
      "cell_type": "code",
      "source": [
        "torch.matmul(torch.rand(2,3),torch.rand(3,2))"
      ],
      "metadata": {
        "colab": {
          "base_uri": "https://localhost:8080/"
        },
        "id": "t3baxzdL0sv4",
        "outputId": "81659a62-1741-4b41-ee57-55ffc15ff56e"
      },
      "execution_count": 36,
      "outputs": [
        {
          "output_type": "execute_result",
          "data": {
            "text/plain": [
              "tensor([[0.1262, 0.4392],\n",
              "        [0.7678, 0.6454]])"
            ]
          },
          "metadata": {},
          "execution_count": 36
        }
      ]
    },
    {
      "cell_type": "code",
      "source": [
        "torch.matmul(torch.rand(10,2),torch.rand(2,10))"
      ],
      "metadata": {
        "colab": {
          "base_uri": "https://localhost:8080/"
        },
        "id": "X-AclPxG1bbe",
        "outputId": "61b5eeee-a59f-4d7f-8705-57cdc41817cd"
      },
      "execution_count": 39,
      "outputs": [
        {
          "output_type": "execute_result",
          "data": {
            "text/plain": [
              "tensor([[0.7548, 1.3718, 0.7968, 0.4946, 0.7970, 0.9437, 0.4329, 0.4297, 0.4340,\n",
              "         0.6452],\n",
              "        [0.4405, 0.7737, 0.4032, 0.2320, 0.5555, 0.5248, 0.2247, 0.1969, 0.2348,\n",
              "         0.3297],\n",
              "        [0.6438, 1.1332, 0.5950, 0.3444, 0.8035, 0.7694, 0.3310, 0.2928, 0.3448,\n",
              "         0.4863],\n",
              "        [0.4330, 0.7685, 0.4147, 0.2449, 0.5191, 0.5236, 0.2292, 0.2096, 0.2363,\n",
              "         0.3381],\n",
              "        [0.0807, 0.1587, 0.1128, 0.0781, 0.0449, 0.1125, 0.0588, 0.0699, 0.0547,\n",
              "         0.0899],\n",
              "        [0.7226, 1.3442, 0.8336, 0.5383, 0.6595, 0.9332, 0.4465, 0.4730, 0.4367,\n",
              "         0.6713],\n",
              "        [0.2604, 0.5100, 0.3591, 0.2478, 0.1519, 0.3609, 0.1874, 0.2216, 0.1750,\n",
              "         0.2863],\n",
              "        [0.7263, 1.3497, 0.8349, 0.5384, 0.6671, 0.9367, 0.4474, 0.4728, 0.4381,\n",
              "         0.6725],\n",
              "        [0.1069, 0.1906, 0.1045, 0.0624, 0.1250, 0.1301, 0.0575, 0.0536, 0.0590,\n",
              "         0.0851],\n",
              "        [0.4672, 0.8349, 0.4608, 0.2765, 0.5406, 0.5705, 0.2533, 0.2378, 0.2589,\n",
              "         0.3748]])"
            ]
          },
          "metadata": {},
          "execution_count": 39
        }
      ]
    },
    {
      "cell_type": "markdown",
      "source": [
        "**one of the most common errors in deep learning(DL)** that are shape errors"
      ],
      "metadata": {
        "id": "c8R78MgL1-mz"
      }
    },
    {
      "cell_type": "code",
      "source": [
        "#shapes for matrix multiplication\n",
        "tensor_A=torch.tensor([[1,2],[3,4],[4,5]])\n",
        "tensor_B=torch.tensor([[6,7],[8,9],[10,11]])\n",
        "torch.matmul(tensor_A,tensor_B)"
      ],
      "metadata": {
        "colab": {
          "base_uri": "https://localhost:8080/",
          "height": 218
        },
        "id": "5hZXMPYG2Pie",
        "outputId": "68ab1c64-fc83-4ec8-9695-000f4adf9bf4"
      },
      "execution_count": 40,
      "outputs": [
        {
          "output_type": "error",
          "ename": "RuntimeError",
          "evalue": "mat1 and mat2 shapes cannot be multiplied (3x2 and 3x2)",
          "traceback": [
            "\u001b[0;31m---------------------------------------------------------------------------\u001b[0m",
            "\u001b[0;31mRuntimeError\u001b[0m                              Traceback (most recent call last)",
            "\u001b[0;32m<ipython-input-40-0c668feb0906>\u001b[0m in \u001b[0;36m<cell line: 4>\u001b[0;34m()\u001b[0m\n\u001b[1;32m      2\u001b[0m \u001b[0mtensor_A\u001b[0m\u001b[0;34m=\u001b[0m\u001b[0mtorch\u001b[0m\u001b[0;34m.\u001b[0m\u001b[0mtensor\u001b[0m\u001b[0;34m(\u001b[0m\u001b[0;34m[\u001b[0m\u001b[0;34m[\u001b[0m\u001b[0;36m1\u001b[0m\u001b[0;34m,\u001b[0m\u001b[0;36m2\u001b[0m\u001b[0;34m]\u001b[0m\u001b[0;34m,\u001b[0m\u001b[0;34m[\u001b[0m\u001b[0;36m3\u001b[0m\u001b[0;34m,\u001b[0m\u001b[0;36m4\u001b[0m\u001b[0;34m]\u001b[0m\u001b[0;34m,\u001b[0m\u001b[0;34m[\u001b[0m\u001b[0;36m4\u001b[0m\u001b[0;34m,\u001b[0m\u001b[0;36m5\u001b[0m\u001b[0;34m]\u001b[0m\u001b[0;34m]\u001b[0m\u001b[0;34m)\u001b[0m\u001b[0;34m\u001b[0m\u001b[0;34m\u001b[0m\u001b[0m\n\u001b[1;32m      3\u001b[0m \u001b[0mtensor_B\u001b[0m\u001b[0;34m=\u001b[0m\u001b[0mtorch\u001b[0m\u001b[0;34m.\u001b[0m\u001b[0mtensor\u001b[0m\u001b[0;34m(\u001b[0m\u001b[0;34m[\u001b[0m\u001b[0;34m[\u001b[0m\u001b[0;36m6\u001b[0m\u001b[0;34m,\u001b[0m\u001b[0;36m7\u001b[0m\u001b[0;34m]\u001b[0m\u001b[0;34m,\u001b[0m\u001b[0;34m[\u001b[0m\u001b[0;36m8\u001b[0m\u001b[0;34m,\u001b[0m\u001b[0;36m9\u001b[0m\u001b[0;34m]\u001b[0m\u001b[0;34m,\u001b[0m\u001b[0;34m[\u001b[0m\u001b[0;36m10\u001b[0m\u001b[0;34m,\u001b[0m\u001b[0;36m11\u001b[0m\u001b[0;34m]\u001b[0m\u001b[0;34m]\u001b[0m\u001b[0;34m)\u001b[0m\u001b[0;34m\u001b[0m\u001b[0;34m\u001b[0m\u001b[0m\n\u001b[0;32m----> 4\u001b[0;31m \u001b[0mtorch\u001b[0m\u001b[0;34m.\u001b[0m\u001b[0mmatmul\u001b[0m\u001b[0;34m(\u001b[0m\u001b[0mtensor_A\u001b[0m\u001b[0;34m,\u001b[0m\u001b[0mtensor_B\u001b[0m\u001b[0;34m)\u001b[0m\u001b[0;34m\u001b[0m\u001b[0;34m\u001b[0m\u001b[0m\n\u001b[0m",
            "\u001b[0;31mRuntimeError\u001b[0m: mat1 and mat2 shapes cannot be multiplied (3x2 and 3x2)"
          ]
        }
      ]
    },
    {
      "cell_type": "code",
      "source": [
        "tensor_B.T"
      ],
      "metadata": {
        "colab": {
          "base_uri": "https://localhost:8080/"
        },
        "id": "PrktqN4_7xKL",
        "outputId": "f606df17-a21c-417e-c3ba-157e379094d2"
      },
      "execution_count": 48,
      "outputs": [
        {
          "output_type": "execute_result",
          "data": {
            "text/plain": [
              "tensor([[ 6,  8, 10],\n",
              "        [ 7,  9, 11]])"
            ]
          },
          "metadata": {},
          "execution_count": 48
        }
      ]
    },
    {
      "cell_type": "code",
      "source": [
        "tensor_A.shape,tensor_B.shape"
      ],
      "metadata": {
        "colab": {
          "base_uri": "https://localhost:8080/"
        },
        "id": "O7PDIJxa26rB",
        "outputId": "ae2fcbea-6ad6-4142-eada-3facddc3cfbd"
      },
      "execution_count": 41,
      "outputs": [
        {
          "output_type": "execute_result",
          "data": {
            "text/plain": [
              "(torch.Size([3, 2]), torch.Size([3, 2]))"
            ]
          },
          "metadata": {},
          "execution_count": 41
        }
      ]
    },
    {
      "cell_type": "markdown",
      "source": [
        "To fix tensor shape issues we can manupilate the shape of one of our tensors using TRANSPOSE. a TANSPOSE switces the axes or dimension of a given tensor"
      ],
      "metadata": {
        "id": "CozebSQa3Ew2"
      }
    },
    {
      "cell_type": "code",
      "source": [
        "tensor_B,tensor_B.shape"
      ],
      "metadata": {
        "colab": {
          "base_uri": "https://localhost:8080/"
        },
        "id": "g6WdxWnO3Y17",
        "outputId": "aa656b0b-7368-4217-dc0c-4dc17d35b591"
      },
      "execution_count": 42,
      "outputs": [
        {
          "output_type": "execute_result",
          "data": {
            "text/plain": [
              "(tensor([[ 6,  7],\n",
              "         [ 8,  9],\n",
              "         [10, 11]]),\n",
              " torch.Size([3, 2]))"
            ]
          },
          "metadata": {},
          "execution_count": 42
        }
      ]
    },
    {
      "cell_type": "code",
      "source": [
        "tensor_B.T,tensor_B.T.shape\n",
        "##T-transpose"
      ],
      "metadata": {
        "colab": {
          "base_uri": "https://localhost:8080/"
        },
        "id": "v4u_xmh93xnm",
        "outputId": "2a20ea80-3abd-4eb9-eb72-a934d1b11889"
      },
      "execution_count": 43,
      "outputs": [
        {
          "output_type": "execute_result",
          "data": {
            "text/plain": [
              "(tensor([[ 6,  8, 10],\n",
              "         [ 7,  9, 11]]),\n",
              " torch.Size([2, 3]))"
            ]
          },
          "metadata": {},
          "execution_count": 43
        }
      ]
    },
    {
      "cell_type": "code",
      "source": [
        "#the matrix multiplication operation workss when tensor_B is transposed\n",
        "print(f\"original shapes: tensor_A={tensor_A.shape},tensor_B={tensor_B.shape}\")\n",
        "print(f\"new shape:tensor_A={tensor_A.shape}(same shape as above),tensor_B.T={tensor_B.T.shape}\")\n",
        "print(f\"multiplying:{tensor_A.shape} @ {tensor_B.T.shape}<-inner dimension must match\")\n",
        "print(\"output:\\n\")\n",
        "output=torch.matmul(tensor_A,tensor_B.T)\n",
        "print(output)\n",
        "print(f\"\\noutput shape:{output.shape}\")"
      ],
      "metadata": {
        "colab": {
          "base_uri": "https://localhost:8080/"
        },
        "id": "OlXwUg-K38zB",
        "outputId": "d98c7435-5cf9-47f4-d5e2-a5ffcf72b195"
      },
      "execution_count": 46,
      "outputs": [
        {
          "output_type": "stream",
          "name": "stdout",
          "text": [
            "original shapes: tensor_A=torch.Size([3, 2]),tensor_B=torch.Size([3, 2])\n",
            "new shape:tensor_A=torch.Size([3, 2])(same shape as above),tensor_B.T=torch.Size([2, 3])\n",
            "multiplying:torch.Size([3, 2]) @ torch.Size([2, 3])<-inner dimension must match\n",
            "output:\n",
            "\n",
            "tensor([[20, 26, 32],\n",
            "        [46, 60, 74],\n",
            "        [59, 77, 95]])\n",
            "\n",
            "output shape:torch.Size([3, 3])\n"
          ]
        }
      ]
    },
    {
      "cell_type": "code",
      "source": [
        "#practice\n",
        "#the matrix multiplication operation workss when tensor_B is transposed\n",
        "print(f\"original shapes: tensor_B={tensor_A.shape},tensor_A={tensor_B.shape}\")\n",
        "print(f\"new shape:tensor_B={tensor_B.shape}(same shape as above),tensor_A.T={tensor_A.T.shape}\")\n",
        "print(f\"multiplying:{tensor_B.shape} @ {tensor_A.T.shape}<-inner dimension must match\")\n",
        "print(\"output:\\n\")\n",
        "output=torch.matmul(tensor_B,tensor_A.T)\n",
        "print(output)\n",
        "print(f\"\\noutput shape:{output.shape}\")"
      ],
      "metadata": {
        "colab": {
          "base_uri": "https://localhost:8080/"
        },
        "id": "SyqohWeq662G",
        "outputId": "5f9a2a3f-9331-435a-cac0-4d40d46b573d"
      },
      "execution_count": 47,
      "outputs": [
        {
          "output_type": "stream",
          "name": "stdout",
          "text": [
            "original shapes: tensor_B=torch.Size([3, 2]),tensor_A=torch.Size([3, 2])\n",
            "new shape:tensor_B=torch.Size([3, 2])(same shape as above),tensor_A.T=torch.Size([2, 3])\n",
            "multiplying:torch.Size([3, 2]) @ torch.Size([2, 3])<-inner dimension must match\n",
            "output:\n",
            "\n",
            "tensor([[20, 46, 59],\n",
            "        [26, 60, 77],\n",
            "        [32, 74, 95]])\n",
            "\n",
            "output shape:torch.Size([3, 3])\n"
          ]
        }
      ]
    },
    {
      "cell_type": "markdown",
      "source": [
        "Finding the MIN,MAX,MEAN,SUm(tensor aggregation)"
      ],
      "metadata": {
        "id": "gs5365fv9DfL"
      }
    },
    {
      "cell_type": "code",
      "source": [
        "#create a tensor\n",
        "x=torch.arange(0,100,10)\n",
        "x,x.dtype"
      ],
      "metadata": {
        "colab": {
          "base_uri": "https://localhost:8080/"
        },
        "id": "iLiD1sHg9NFK",
        "outputId": "60cdc3f6-0f03-4e96-9f10-17d077e82c34"
      },
      "execution_count": 53,
      "outputs": [
        {
          "output_type": "execute_result",
          "data": {
            "text/plain": [
              "(tensor([ 0, 10, 20, 30, 40, 50, 60, 70, 80, 90]), torch.int64)"
            ]
          },
          "metadata": {},
          "execution_count": 53
        }
      ]
    },
    {
      "cell_type": "code",
      "source": [
        "#find the min\n",
        "torch.min(x),x.min()"
      ],
      "metadata": {
        "colab": {
          "base_uri": "https://localhost:8080/"
        },
        "id": "HySJ_xea9ZWH",
        "outputId": "bfe89efe-fa73-4f77-be70-6f0114527c07"
      },
      "execution_count": 54,
      "outputs": [
        {
          "output_type": "execute_result",
          "data": {
            "text/plain": [
              "(tensor(0), tensor(0))"
            ]
          },
          "metadata": {},
          "execution_count": 54
        }
      ]
    },
    {
      "cell_type": "code",
      "source": [
        "#find the max\n",
        "torch.max(x),x.max()"
      ],
      "metadata": {
        "colab": {
          "base_uri": "https://localhost:8080/"
        },
        "id": "7A68wO1o9hYj",
        "outputId": "91441cd1-f23b-4b0d-db9e-7b0f4472d2e9"
      },
      "execution_count": 55,
      "outputs": [
        {
          "output_type": "execute_result",
          "data": {
            "text/plain": [
              "(tensor(90), tensor(90))"
            ]
          },
          "metadata": {},
          "execution_count": 55
        }
      ]
    },
    {
      "cell_type": "code",
      "source": [
        "#find the mean\n",
        "#Note:the torch mean() function reqquires a tensor datatype32 to work\n",
        "torch.mean(x.type(torch.float32)),x.type(torch.float32).mean()"
      ],
      "metadata": {
        "colab": {
          "base_uri": "https://localhost:8080/"
        },
        "id": "1ENpcHC-9pdD",
        "outputId": "5eadb206-98ab-48e7-ffd7-564f538336f2"
      },
      "execution_count": 59,
      "outputs": [
        {
          "output_type": "execute_result",
          "data": {
            "text/plain": [
              "(tensor(45.), tensor(45.))"
            ]
          },
          "metadata": {},
          "execution_count": 59
        }
      ]
    },
    {
      "cell_type": "code",
      "source": [
        "#find sum\n",
        "torch.sum(x),x.sum()"
      ],
      "metadata": {
        "colab": {
          "base_uri": "https://localhost:8080/"
        },
        "id": "nRXh4sef_G-j",
        "outputId": "f81f05eb-2302-4bbc-803e-51d4d906bc4a"
      },
      "execution_count": 60,
      "outputs": [
        {
          "output_type": "execute_result",
          "data": {
            "text/plain": [
              "(tensor(450), tensor(450))"
            ]
          },
          "metadata": {},
          "execution_count": 60
        }
      ]
    },
    {
      "cell_type": "code",
      "source": [
        "##finding the positional min and max"
      ],
      "metadata": {
        "id": "zzsPuCte_XW4"
      },
      "execution_count": null,
      "outputs": []
    },
    {
      "cell_type": "code",
      "source": [
        "x"
      ],
      "metadata": {
        "colab": {
          "base_uri": "https://localhost:8080/"
        },
        "id": "SNXmS5_B_ekP",
        "outputId": "990fca81-5acb-4d7b-ec80-563572498454"
      },
      "execution_count": 61,
      "outputs": [
        {
          "output_type": "execute_result",
          "data": {
            "text/plain": [
              "tensor([ 0, 10, 20, 30, 40, 50, 60, 70, 80, 90])"
            ]
          },
          "metadata": {},
          "execution_count": 61
        }
      ]
    },
    {
      "cell_type": "code",
      "source": [
        "#finding the position in tensor that as min value with argmin()-> reurns index position of target tensor where the min value occur\n",
        "x.argmin()"
      ],
      "metadata": {
        "colab": {
          "base_uri": "https://localhost:8080/"
        },
        "id": "kBoO1EZN_hvM",
        "outputId": "be14efe2-3eba-4870-b30e-62aa77bc4725"
      },
      "execution_count": 62,
      "outputs": [
        {
          "output_type": "execute_result",
          "data": {
            "text/plain": [
              "tensor(0)"
            ]
          },
          "metadata": {},
          "execution_count": 62
        }
      ]
    },
    {
      "cell_type": "code",
      "source": [
        "x[0]"
      ],
      "metadata": {
        "colab": {
          "base_uri": "https://localhost:8080/"
        },
        "id": "TwEyQ_5f___6",
        "outputId": "361f8eeb-6c7c-46a8-b54e-42b026f9b843"
      },
      "execution_count": 63,
      "outputs": [
        {
          "output_type": "execute_result",
          "data": {
            "text/plain": [
              "tensor(0)"
            ]
          },
          "metadata": {},
          "execution_count": 63
        }
      ]
    },
    {
      "cell_type": "code",
      "source": [
        "#finding the position in tensor that as max value with argmax()\n",
        "\n",
        "x.argmax()"
      ],
      "metadata": {
        "colab": {
          "base_uri": "https://localhost:8080/"
        },
        "id": "Ju5rjkfFAGEB",
        "outputId": "fad3462a-0b8c-489e-803b-248dbeb72c5b"
      },
      "execution_count": 64,
      "outputs": [
        {
          "output_type": "execute_result",
          "data": {
            "text/plain": [
              "tensor(9)"
            ]
          },
          "metadata": {},
          "execution_count": 64
        }
      ]
    },
    {
      "cell_type": "code",
      "source": [
        "x[9]"
      ],
      "metadata": {
        "colab": {
          "base_uri": "https://localhost:8080/"
        },
        "id": "gGgB7GGaB8qz",
        "outputId": "b32046aa-9b56-4c1c-ed45-cacbb2894b77"
      },
      "execution_count": 65,
      "outputs": [
        {
          "output_type": "execute_result",
          "data": {
            "text/plain": [
              "tensor(90)"
            ]
          },
          "metadata": {},
          "execution_count": 65
        }
      ]
    },
    {
      "cell_type": "code",
      "source": [
        "x"
      ],
      "metadata": {
        "colab": {
          "base_uri": "https://localhost:8080/"
        },
        "id": "XB-D-D_1CRdg",
        "outputId": "bb82e018-811f-44d4-a359-09dcb014ccbb"
      },
      "execution_count": 66,
      "outputs": [
        {
          "output_type": "execute_result",
          "data": {
            "text/plain": [
              "tensor([ 0, 10, 20, 30, 40, 50, 60, 70, 80, 90])"
            ]
          },
          "metadata": {},
          "execution_count": 66
        }
      ]
    }
  ]
}